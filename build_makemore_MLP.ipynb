{
 "cells": [
  {
   "cell_type": "code",
   "execution_count": 1,
   "metadata": {},
   "outputs": [
    {
     "name": "stdout",
     "output_type": "stream",
     "text": [
      "no change     /home/igarg/miniconda3/condabin/conda\n",
      "no change     /home/igarg/miniconda3/bin/conda\n",
      "no change     /home/igarg/miniconda3/bin/conda-env\n",
      "no change     /home/igarg/miniconda3/bin/activate\n",
      "no change     /home/igarg/miniconda3/bin/deactivate\n",
      "no change     /home/igarg/miniconda3/etc/profile.d/conda.sh\n",
      "no change     /home/igarg/miniconda3/etc/fish/conf.d/conda.fish\n",
      "no change     /home/igarg/miniconda3/shell/condabin/Conda.psm1\n",
      "no change     /home/igarg/miniconda3/shell/condabin/conda-hook.ps1\n",
      "no change     /home/igarg/miniconda3/lib/python3.12/site-packages/xontrib/conda.xsh\n",
      "no change     /home/igarg/miniconda3/etc/profile.d/conda.csh\n",
      "no change     /home/igarg/.bashrc\n",
      "No action taken.\n",
      "\n",
      "CondaError: Run 'conda init' before 'conda activate'\n",
      "\n"
     ]
    }
   ],
   "source": [
    "!conda init && conda activate makemore"
   ]
  },
  {
   "cell_type": "code",
   "execution_count": 2,
   "metadata": {},
   "outputs": [],
   "source": [
    "import os\n",
    "from pathlib import Path\n",
    "import torch\n",
    "import matplotlib.pyplot as plt\n",
    "import numpy as np\n",
    "\n",
    "%matplotlib inline"
   ]
  },
  {
   "cell_type": "code",
   "execution_count": 3,
   "metadata": {},
   "outputs": [],
   "source": [
    "file_path = Path(\"names.txt\").resolve()"
   ]
  },
  {
   "cell_type": "code",
   "execution_count": 4,
   "metadata": {},
   "outputs": [],
   "source": [
    "if not file_path.is_file():\n",
    "    raise FileNotFoundError(f\"No file with the name {file_path} is present. Ensure that the file is present before proceeding\")"
   ]
  },
  {
   "cell_type": "code",
   "execution_count": 5,
   "metadata": {},
   "outputs": [],
   "source": [
    "with open(file_path, \"r\") as f:\n",
    "    words = f.read().splitlines(keepends=False)"
   ]
  },
  {
   "cell_type": "code",
   "execution_count": 6,
   "metadata": {},
   "outputs": [
    {
     "data": {
      "text/plain": [
       "['emma',\n",
       " 'olivia',\n",
       " 'ava',\n",
       " 'isabella',\n",
       " 'sophia',\n",
       " 'charlotte',\n",
       " 'mia',\n",
       " 'amelia',\n",
       " 'harper',\n",
       " 'evelyn']"
      ]
     },
     "execution_count": 6,
     "metadata": {},
     "output_type": "execute_result"
    }
   ],
   "source": [
    "words[:10]"
   ]
  },
  {
   "cell_type": "code",
   "execution_count": 7,
   "metadata": {},
   "outputs": [
    {
     "data": {
      "text/plain": [
       "32033"
      ]
     },
     "execution_count": 7,
     "metadata": {},
     "output_type": "execute_result"
    }
   ],
   "source": [
    "len(words)"
   ]
  },
  {
   "cell_type": "code",
   "execution_count": 8,
   "metadata": {},
   "outputs": [],
   "source": [
    "shape = (27, 27)\n"
   ]
  },
  {
   "cell_type": "code",
   "execution_count": 9,
   "metadata": {},
   "outputs": [],
   "source": [
    "chars = sorted(list(set(''.join(words))))\n",
    "stoi = {s: i+1 for i, s in enumerate(chars)}\n",
    "stoi['.'] = 0\n",
    "\n",
    "itos = {i: s for s, i in stoi.items()}"
   ]
  },
  {
   "cell_type": "code",
   "execution_count": 10,
   "metadata": {},
   "outputs": [],
   "source": [
    "# build the dataset\n",
    "\n",
    "block_size = 3 # context length: no of chars needed prev to predict next char\n",
    "\n",
    "X, Y = [], []\n",
    "\n",
    "for w in words:\n",
    "    # print(w)\n",
    "    context = [0] * block_size\n",
    "    for ch in w + '.':\n",
    "        ix = stoi[ch]\n",
    "        X.append(context)\n",
    "        Y.append(ix)\n",
    "        # print(f\"{''.join(itos[i] for i in context)} ---> {itos[ix]}\")\n",
    "        context = context[1:] + [ix]\n",
    "X = torch.tensor(X)\n",
    "Y = torch.tensor(Y)\n"
   ]
  },
  {
   "cell_type": "code",
   "execution_count": 11,
   "metadata": {},
   "outputs": [
    {
     "data": {
      "text/plain": [
       "(torch.Size([228146, 3]), torch.int64, torch.Size([228146]), torch.int64)"
      ]
     },
     "execution_count": 11,
     "metadata": {},
     "output_type": "execute_result"
    }
   ],
   "source": [
    "X.shape, X.dtype, Y.shape, Y.dtype"
   ]
  },
  {
   "cell_type": "code",
   "execution_count": 12,
   "metadata": {},
   "outputs": [],
   "source": [
    "g = torch.Generator().manual_seed(2147483647)\n",
    "C = torch.randn((shape[0], 2), generator=g) # look-up table"
   ]
  },
  {
   "cell_type": "code",
   "execution_count": null,
   "metadata": {},
   "outputs": [
    {
     "data": {
      "text/plain": [
       "tensor([-0.4713,  0.7868])"
      ]
     },
     "execution_count": 13,
     "metadata": {},
     "output_type": "execute_result"
    }
   ],
   "source": [
    "C[5]"
   ]
  },
  {
   "cell_type": "code",
   "execution_count": null,
   "metadata": {},
   "outputs": [
    {
     "data": {
      "text/plain": [
       "tensor([-0.4713,  0.7868])"
      ]
     },
     "execution_count": 14,
     "metadata": {},
     "output_type": "execute_result"
    }
   ],
   "source": [
    "import torch.nn.functional as F\n",
    "\n",
    "\n",
    "F.one_hot(torch.tensor(5), num_classes=shape[0]).float() @ C"
   ]
  },
  {
   "cell_type": "code",
   "execution_count": 15,
   "metadata": {},
   "outputs": [
    {
     "data": {
      "text/plain": [
       "tensor([[ 1.5674, -0.2373],\n",
       "        [ 1.5674, -0.2373],\n",
       "        [ 1.5674, -0.2373]])"
      ]
     },
     "execution_count": 15,
     "metadata": {},
     "output_type": "execute_result"
    }
   ],
   "source": [
    "emb = C[X]\n",
    "emb[0]"
   ]
  },
  {
   "cell_type": "code",
   "execution_count": 16,
   "metadata": {},
   "outputs": [],
   "source": [
    "num_neurons = 100"
   ]
  },
  {
   "cell_type": "code",
   "execution_count": 17,
   "metadata": {},
   "outputs": [],
   "source": [
    "W1 = torch.randn((6, num_neurons)) # 6 = 3 * 2, i.e, for each, we have 2-dimensional neurons and 3 of them, 100 -> no. of neurons\n",
    "b = torch.randn(num_neurons)"
   ]
  },
  {
   "cell_type": "code",
   "execution_count": 18,
   "metadata": {},
   "outputs": [
    {
     "data": {
      "text/plain": [
       "(torch.Size([228146, 3, 2]), torch.Size([6, 100]))"
      ]
     },
     "execution_count": 18,
     "metadata": {},
     "output_type": "execute_result"
    }
   ],
   "source": [
    "# need to do emb @ W1 + b\n",
    "\n",
    "emb.shape, W1.shape # not multiplicable"
   ]
  },
  {
   "cell_type": "code",
   "execution_count": 19,
   "metadata": {},
   "outputs": [
    {
     "data": {
      "text/plain": [
       "torch.Size([228146, 6])"
      ]
     },
     "execution_count": 19,
     "metadata": {},
     "output_type": "execute_result"
    }
   ],
   "source": [
    "# need to convert emb to (32, 6) -> need to squash dims 1 and 2\n",
    "# naive way:\n",
    "torch.cat((emb[:, 0, :], emb[:, 1, :], emb[:, 2, :]), 1).shape # plucks each row from the 2nd dimension and concats them to form shape (32, 6)\n",
    "\n",
    "# disadvantage: does not scale if block size is changed"
   ]
  },
  {
   "cell_type": "code",
   "execution_count": 20,
   "metadata": {},
   "outputs": [
    {
     "data": {
      "text/plain": [
       "torch.Size([228146, 6])"
      ]
     },
     "execution_count": 20,
     "metadata": {},
     "output_type": "execute_result"
    }
   ],
   "source": [
    "# better way\n",
    "# len(torch.unbind(emb, 1)) # unbinds the tensor at given dim, (in our case 1 , since (32, 3, 2)), and returns a tuple plucking from each index in said dim,\n",
    "torch.cat(torch.unbind(emb, 1), 1).shape # now scalable across any block size\n",
    "\n",
    "# disadvantageous: not efficient"
   ]
  },
  {
   "cell_type": "code",
   "execution_count": 21,
   "metadata": {},
   "outputs": [
    {
     "data": {
      "text/plain": [
       "torch.Size([18])"
      ]
     },
     "execution_count": 21,
     "metadata": {},
     "output_type": "execute_result"
    }
   ],
   "source": [
    "a = torch.arange(18)\n",
    "a.shape"
   ]
  },
  {
   "cell_type": "code",
   "execution_count": 22,
   "metadata": {},
   "outputs": [
    {
     "data": {
      "text/plain": [
       "tensor([[[ 0,  1],\n",
       "         [ 2,  3],\n",
       "         [ 4,  5]],\n",
       "\n",
       "        [[ 6,  7],\n",
       "         [ 8,  9],\n",
       "         [10, 11]],\n",
       "\n",
       "        [[12, 13],\n",
       "         [14, 15],\n",
       "         [16, 17]]])"
      ]
     },
     "execution_count": 22,
     "metadata": {},
     "output_type": "execute_result"
    }
   ],
   "source": [
    "a.view((3, 3, 2))"
   ]
  },
  {
   "cell_type": "code",
   "execution_count": 23,
   "metadata": {},
   "outputs": [
    {
     "name": "stderr",
     "output_type": "stream",
     "text": [
      "/tmp/ipykernel_2454/1209347448.py:1: UserWarning: TypedStorage is deprecated. It will be removed in the future and UntypedStorage will be the only storage class. This should only matter to you if you are using storages directly.  To access UntypedStorage directly, use tensor.untyped_storage() instead of tensor.storage()\n",
      "  a.storage(\n"
     ]
    },
    {
     "data": {
      "text/plain": [
       " 0\n",
       " 1\n",
       " 2\n",
       " 3\n",
       " 4\n",
       " 5\n",
       " 6\n",
       " 7\n",
       " 8\n",
       " 9\n",
       " 10\n",
       " 11\n",
       " 12\n",
       " 13\n",
       " 14\n",
       " 15\n",
       " 16\n",
       " 17\n",
       "[torch.storage.TypedStorage(dtype=torch.int64, device=cpu) of size 18]"
      ]
     },
     "execution_count": 23,
     "metadata": {},
     "output_type": "execute_result"
    }
   ],
   "source": [
    "a.storage(\n",
    ") # way in which tensors are stored in memory, 1-D list of vectors\n",
    "\n",
    "# when view is called, some attributes of the tensor shape, namely shapes and strides are manipulated"
   ]
  },
  {
   "cell_type": "code",
   "execution_count": 24,
   "metadata": {},
   "outputs": [
    {
     "data": {
      "text/plain": [
       "tensor([[True, True, True, True, True, True],\n",
       "        [True, True, True, True, True, True],\n",
       "        [True, True, True, True, True, True],\n",
       "        ...,\n",
       "        [True, True, True, True, True, True],\n",
       "        [True, True, True, True, True, True],\n",
       "        [True, True, True, True, True, True]])"
      ]
     },
     "execution_count": 24,
     "metadata": {},
     "output_type": "execute_result"
    }
   ],
   "source": [
    "# emb.view(32, 6) # squashes dims 1 and 2. exactly what we need\n",
    "emb.view(emb.shape[0], 6) == torch.cat(torch.unbind(emb, 1), 1) # evaluates to all True"
   ]
  },
  {
   "cell_type": "code",
   "execution_count": 25,
   "metadata": {},
   "outputs": [],
   "source": [
    "h = torch.tanh(emb.view(emb.shape[0], 6) @ W1 + b)"
   ]
  },
  {
   "cell_type": "code",
   "execution_count": 26,
   "metadata": {},
   "outputs": [
    {
     "data": {
      "text/plain": [
       "torch.Size([228146, 100])"
      ]
     },
     "execution_count": 26,
     "metadata": {},
     "output_type": "execute_result"
    }
   ],
   "source": [
    "h.shape"
   ]
  },
  {
   "cell_type": "code",
   "execution_count": 27,
   "metadata": {},
   "outputs": [],
   "source": [
    "W2 = torch.randn((num_neurons, shape[0]))\n",
    "b2 = torch.randn(shape[0])"
   ]
  },
  {
   "cell_type": "code",
   "execution_count": 28,
   "metadata": {},
   "outputs": [
    {
     "data": {
      "text/plain": [
       "(torch.Size([228146, 100]), torch.Size([100, 27]))"
      ]
     },
     "execution_count": 28,
     "metadata": {},
     "output_type": "execute_result"
    }
   ],
   "source": [
    "h.shape, W2.shape"
   ]
  },
  {
   "cell_type": "code",
   "execution_count": 29,
   "metadata": {},
   "outputs": [],
   "source": [
    "logits = h @ W2 + b2\n",
    "prob = torch.softmax(logits, 1)"
   ]
  },
  {
   "cell_type": "code",
   "execution_count": 30,
   "metadata": {},
   "outputs": [
    {
     "data": {
      "text/plain": [
       "(torch.Size([228146, 27]), torch.Size([228146, 27]))"
      ]
     },
     "execution_count": 30,
     "metadata": {},
     "output_type": "execute_result"
    }
   ],
   "source": [
    "logits.shape, prob.shape"
   ]
  },
  {
   "cell_type": "code",
   "execution_count": 31,
   "metadata": {},
   "outputs": [
    {
     "data": {
      "text/plain": [
       "(tensor([ 5, 13, 13,  ..., 26, 24,  0]),\n",
       " tensor([[2.4143e-10, 2.7450e-15, 2.6660e-15,  ..., 6.5016e-07, 2.7926e-09,\n",
       "          4.4147e-09],\n",
       "         [3.6202e-02, 2.4790e-05, 2.1292e-07,  ..., 8.1154e-04, 1.6614e-07,\n",
       "          8.2539e-04],\n",
       "         [2.9635e-14, 1.1084e-15, 1.3574e-10,  ..., 5.9451e-05, 8.1127e-13,\n",
       "          1.0623e-12],\n",
       "         ...,\n",
       "         [9.1900e-08, 1.0903e-01, 2.1394e-07,  ..., 1.6538e-06, 2.0843e-10,\n",
       "          1.3515e-08],\n",
       "         [1.2056e-14, 8.6255e-11, 4.8791e-10,  ..., 1.2283e-03, 7.4418e-16,\n",
       "          1.2908e-14],\n",
       "         [2.2674e-08, 1.2957e-08, 4.6685e-09,  ..., 2.7137e-06, 9.0734e-05,\n",
       "          1.9635e-08]]))"
      ]
     },
     "execution_count": 31,
     "metadata": {},
     "output_type": "execute_result"
    }
   ],
   "source": [
    "Y, prob"
   ]
  },
  {
   "cell_type": "code",
   "execution_count": 32,
   "metadata": {},
   "outputs": [
    {
     "data": {
      "text/plain": [
       "tensor(18.0847)"
      ]
     },
     "execution_count": 32,
     "metadata": {},
     "output_type": "execute_result"
    }
   ],
   "source": [
    "loss = -prob[torch.arange(Y.shape[0]), Y].log().mean()\n",
    "loss"
   ]
  },
  {
   "cell_type": "code",
   "execution_count": 33,
   "metadata": {},
   "outputs": [],
   "source": [
    "# reg_strength = .01\n",
    "# reg_loss = reg_strength * (W2 ** 2).mean()\n",
    "# loss += reg_loss\n",
    "# loss"
   ]
  },
  {
   "cell_type": "code",
   "execution_count": 34,
   "metadata": {},
   "outputs": [],
   "source": [
    "block_size = 3\n",
    "dim_size = 2\n",
    "num_neurons = 100\n",
    "num_chars = 27\n"
   ]
  },
  {
   "cell_type": "code",
   "execution_count": 35,
   "metadata": {},
   "outputs": [
    {
     "data": {
      "text/plain": [
       "(torch.Size([228146, 3]), torch.Size([228146]))"
      ]
     },
     "execution_count": 35,
     "metadata": {},
     "output_type": "execute_result"
    }
   ],
   "source": [
    "X.shape, Y.shape"
   ]
  },
  {
   "cell_type": "code",
   "execution_count": 36,
   "metadata": {},
   "outputs": [
    {
     "name": "stdout",
     "output_type": "stream",
     "text": [
      "3481\n"
     ]
    }
   ],
   "source": [
    "g = torch.Generator().manual_seed(2147483647)\n",
    "C = torch.randn((num_chars, dim_size), generator=g, requires_grad=True).float()\n",
    "W1 = torch.randn((block_size * dim_size, num_neurons), generator=g, requires_grad=True).float()\n",
    "b1 = torch.randn(num_neurons, generator=g, requires_grad=True)\n",
    "W2 = torch.randn((num_neurons, num_chars), generator=g,  requires_grad=True).float()\n",
    "b2 = torch.randn(num_chars, generator=g, requires_grad=True)\n",
    "h = torch.tanh\n",
    "\n",
    "# training params (hyperparameters)\n",
    "reg_strength = 0.01\n",
    "lr = .0005\n",
    "num_steps = 10000\n",
    "break_at = 1e-4\n",
    "batch_size = 32\n",
    "\n",
    "params = [C, W1, b1, W2, b2]\n",
    "\n",
    "# num_params\n",
    "print(sum((p.nelement()) for p in params))"
   ]
  },
  {
   "cell_type": "code",
   "execution_count": 37,
   "metadata": {},
   "outputs": [],
   "source": [
    "# choose a good lr\n",
    "lre = torch.linspace(-3, 0, num_steps)\n",
    "lrs = 10 ** lre"
   ]
  },
  {
   "cell_type": "code",
   "execution_count": 38,
   "metadata": {},
   "outputs": [],
   "source": [
    "lrtoloss = {}\n",
    "for i in range(num_steps):\n",
    "    # minibatch\n",
    "    ix = torch.randint(0, X.shape[0], (batch_size, ))\n",
    "    yx = Y[ix]\n",
    "    # forward pass\n",
    "    emb = C[X[ix]]\n",
    "    h = torch.tanh(emb.view((emb.shape[0], block_size * dim_size)) @ W1 + b1)\n",
    "    logits = h @ W2 + b2\n",
    "    # prob = torch.softmax(logits, 1)\n",
    "    # loss = -prob[torch.arange(Y.shape[0]), Y].log().mean() # nll\n",
    "    prev_loss = loss\n",
    "    loss = F.cross_entropy(logits, yx)\n",
    "    reg_loss = reg_strength * (W2 ** 2).mean()\n",
    "    loss += reg_loss\n",
    "    # print(f\"Step {i + 1}: Loss: {loss}\")\n",
    "    lr = 10**-5\n",
    "    # lr = lrs[i]\n",
    "    # lrtoloss[lre[i]] = loss.item()\n",
    "    # if abs(prev_loss - loss) < break_at:\n",
    "    #     print(\"Not enough loss happening, breaking...\")\n",
    "    #     break\n",
    "    # backward pass\n",
    "    for p in params:\n",
    "        p.grad = None\n",
    "\n",
    "    loss.backward()\n",
    "    # update\n",
    "    for p in params:\n",
    "        p.data += -lr * p.grad\n"
   ]
  },
  {
   "cell_type": "code",
   "execution_count": 39,
   "metadata": {},
   "outputs": [
    {
     "data": {
      "text/plain": [
       "tensor(15.0411, grad_fn=<AddBackward0>)"
      ]
     },
     "execution_count": 39,
     "metadata": {},
     "output_type": "execute_result"
    }
   ],
   "source": [
    "loss"
   ]
  },
  {
   "cell_type": "code",
   "execution_count": 40,
   "metadata": {},
   "outputs": [],
   "source": [
    "# min_lr = min(lrtoloss, key=lrtoloss.get)\n",
    "# min_lr"
   ]
  },
  {
   "cell_type": "code",
   "execution_count": 41,
   "metadata": {},
   "outputs": [
    {
     "data": {
      "text/plain": [
       "[]"
      ]
     },
     "execution_count": 41,
     "metadata": {},
     "output_type": "execute_result"
    },
    {
     "data": {
      "image/png": "[encoded data removed]",
      "text/plain": [
       "<Figure size 640x480 with 1 Axes>"
      ]
     },
     "metadata": {},
     "output_type": "display_data"
    }
   ],
   "source": [
    "plt.plot(*zip(*lrtoloss.items()))"
   ]
  },
  {
   "cell_type": "code",
   "execution_count": 42,
   "metadata": {},
   "outputs": [],
   "source": [
    "# train, val, test split\n",
    "# 80%,   10%, 10%\n",
    "\n",
    "# train -> optimize your params via gradient descent\n",
    "# val -> optimize your hyperparams\n",
    "# test -> held-out set on which to evaluate performance, generalizability of your model. Only allowed few times to risk overfitting on this too."
   ]
  },
  {
   "cell_type": "code",
   "execution_count": 73,
   "metadata": {},
   "outputs": [],
   "source": [
    "# build the dataset\n",
    "\n",
    "def build_dataset(words):\n",
    "\n",
    "    block_size = 3 # context length: no of chars needed prev to predict next char\n",
    "\n",
    "    X, Y = [], []\n",
    "\n",
    "    for w in words:\n",
    "        # print(w)\n",
    "        context = [0] * block_size\n",
    "        for ch in w + '.':\n",
    "            ix = stoi[ch]\n",
    "            X.append(context)\n",
    "            Y.append(ix)\n",
    "            # print(f\"{''.join(itos[i] for i in context)} ---> {itos[ix]}\")\n",
    "            context = context[1:] + [ix]\n",
    "    X = torch.tensor(X)\n",
    "    Y = torch.tensor(Y)\n",
    "\n",
    "    return X, Y\n"
   ]
  },
  {
   "cell_type": "code",
   "execution_count": 74,
   "metadata": {},
   "outputs": [],
   "source": [
    "import random\n",
    "random.seed(42)\n",
    "\n",
    "n1 = int(.8 * len(words))\n",
    "n2 = int(.9 * len(words))\n",
    "\n",
    "Xtrain, Ytrain = build_dataset(words[:n1])\n",
    "Xval, Yval = build_dataset(words[n1:n2])\n",
    "Xtest, Ytest = build_dataset(words[n2:])"
   ]
  },
  {
   "cell_type": "code",
   "execution_count": 76,
   "metadata": {},
   "outputs": [
    {
     "name": "stdout",
     "output_type": "stream",
     "text": [
      "16351\n"
     ]
    },
    {
     "data": {
      "text/plain": [
       "torch.Size([36, 250])"
      ]
     },
     "execution_count": 76,
     "metadata": {},
     "output_type": "execute_result"
    }
   ],
   "source": [
    "# other hyperparameters\n",
    "block_size = 3\n",
    "dim_size = 12\n",
    "num_neurons = 250\n",
    "num_chars = 27\n",
    "\n",
    "# parameters\n",
    "g = torch.Generator().manual_seed(2147483647)\n",
    "C = torch.randn((num_chars, dim_size), generator=g, requires_grad=True).float()\n",
    "W1 = torch.randn((block_size * dim_size, num_neurons), generator=g, requires_grad=True).float()\n",
    "b1 = torch.randn(num_neurons, generator=g, requires_grad=True)\n",
    "W2 = torch.randn((num_neurons, num_chars), generator=g,  requires_grad=True).float()\n",
    "b2 = torch.randn(num_chars, generator=g, requires_grad=True)\n",
    "\n",
    "# training params (hyperparameters)\n",
    "reg_strength = 0.01\n",
    "lr = .0005\n",
    "num_steps = 1500\n",
    "break_at = 1e-12\n",
    "batch_size = 64\n",
    "\n",
    "params = [C, W1, b1, W2, b2]\n",
    "\n",
    "# num_params\n",
    "print(sum((p.nelement()) for p in params))\n",
    "\n",
    "W1.shape\n",
    "\n",
    "\n",
    "    "
   ]
  },
  {
   "cell_type": "code",
   "execution_count": 124,
   "metadata": {},
   "outputs": [
    {
     "name": "stdout",
     "output_type": "stream",
     "text": [
      "Loss post training: 1.9797004461288452\n"
     ]
    }
   ],
   "source": [
    "def train(X, Y):\n",
    "    # lrtoloss = {}\n",
    "    for i in range(num_steps):\n",
    "        # minibatch\n",
    "        ix = torch.randint(0, X.shape[0], (batch_size, ))\n",
    "        yx = Y[ix]\n",
    "        # forward pass\n",
    "        emb = C[X[ix]]\n",
    "        h = torch.tanh(emb.view((emb.shape[0], block_size * dim_size)) @ W1 + b1)\n",
    "        logits = h @ W2 + b2\n",
    "        # prob = torch.softmax(logits, 1)\n",
    "        # loss = -prob[torch.arange(Y.shape[0]), Y].log().mean() # nll\n",
    "        if i > 0:\n",
    "            prev_loss = loss\n",
    "        else:\n",
    "            prev_loss = None\n",
    "        loss = F.cross_entropy(logits, yx)\n",
    "        reg_loss = reg_strength * (W2 ** 2).mean()\n",
    "        loss += reg_loss\n",
    "        # print(f\"Step {i + 1}: Loss: {loss}\")\n",
    "        lr = 10**-3\n",
    "        # lr = lrs[i]\n",
    "        # lrtoloss[lre[i]] = loss.item()\n",
    "        if prev_loss and abs(prev_loss - loss) < break_at:\n",
    "            print(\"Not enough loss happening, breaking...\")\n",
    "            break\n",
    "        # backward pass\n",
    "        for p in params:\n",
    "            p.grad = None\n",
    "\n",
    "        loss.backward()\n",
    "        # update\n",
    "        for p in params:\n",
    "            p.data += -lr * p.grad\n",
    "\n",
    "    print(f\"Loss post training: {loss}\")\n",
    "\n",
    "train(Xtrain, Ytrain)"
   ]
  },
  {
   "cell_type": "code",
   "execution_count": 125,
   "metadata": {},
   "outputs": [],
   "source": [
    "# evaluate\n",
    "def evaluate(X, Y):\n",
    "    emb = C[X]\n",
    "    h = torch.tanh(emb.view(emb.shape[0], block_size * dim_size) @ W1 + b1)\n",
    "    logits = h @ W2 + b2\n",
    "    loss = F.cross_entropy(logits, Y)\n",
    "    return loss\n",
    "\n",
    "train_loss = evaluate(Xtrain, Ytrain)\n",
    "val_loss = evaluate(Xval, Yval)"
   ]
  },
  {
   "cell_type": "code",
   "execution_count": 126,
   "metadata": {},
   "outputs": [
    {
     "data": {
      "text/plain": [
       "(tensor(2.1899, grad_fn=<NllLossBackward0>),\n",
       " tensor(2.5182, grad_fn=<NllLossBackward0>))"
      ]
     },
     "execution_count": 126,
     "metadata": {},
     "output_type": "execute_result"
    }
   ],
   "source": [
    "train_loss, val_loss"
   ]
  },
  {
   "cell_type": "code",
   "execution_count": 127,
   "metadata": {},
   "outputs": [
    {
     "data": {
      "image/png": "[encoded data removed]",
      "text/plain": [
       "<Figure size 800x800 with 1 Axes>"
      ]
     },
     "metadata": {},
     "output_type": "display_data"
    }
   ],
   "source": [
    "# viz embeddings\n",
    "plt.figure(figsize=(8,8))\n",
    "plt.scatter(C[:,0].data, C[:,1].data, s=200)\n",
    "for i in range(C.shape[0]):\n",
    "    plt.text(C[i,0].item(), C[i,1].item(), itos[i], ha=\"center\", va=\"center\", color=\"white\")\n",
    "plt.grid('minor')"
   ]
  },
  {
   "cell_type": "code",
   "execution_count": 128,
   "metadata": {},
   "outputs": [
    {
     "data": {
      "text/plain": [
       "torch.Size([27, 12])"
      ]
     },
     "execution_count": 128,
     "metadata": {},
     "output_type": "execute_result"
    }
   ],
   "source": [
    "C.shape"
   ]
  },
  {
   "cell_type": "code",
   "execution_count": 129,
   "metadata": {},
   "outputs": [
    {
     "name": "stdout",
     "output_type": "stream",
     "text": [
      "junide.\n",
      "janasar.\n",
      "pallarie.\n",
      "nai.\n",
      "jirn.\n",
      "toleon.\n",
      "juel.\n",
      "kalinaa.\n",
      "zamilenias.\n",
      "deyah.\n",
      "rwie.\n",
      "adsery.\n",
      "evy.\n",
      "arterinvelleryn.\n",
      "dtumi.\n",
      "phynsleigh.\n",
      "ani.\n",
      "cora.\n",
      "yaelon.\n",
      "kaelandine.\n"
     ]
    }
   ],
   "source": [
    "# sample from the model\n",
    "g = torch.Generator().manual_seed(2147483647)\n",
    "\n",
    "for _ in range(20):\n",
    "    out = []\n",
    "    context = [0] * block_size\n",
    "    while True:\n",
    "        emb = C[torch.tensor([context])]\n",
    "        h = torch.tanh((emb.view(1, -1)) @ W1 + b1)\n",
    "        logits = h @ W2 + b2\n",
    "\n",
    "        probs = F.softmax(logits, dim=1)\n",
    "        ix = torch.multinomial(probs, num_samples=1, generator=g).item()\n",
    "        context = context[1:] + [ix]\n",
    "        out.append(ix)\n",
    "\n",
    "        if ix == 0:\n",
    "            break\n",
    "    \n",
    "    print(''.join(itos[i] for i in out))"
   ]
  },
  {
   "cell_type": "code",
   "execution_count": 130,
   "metadata": {},
   "outputs": [
    {
     "data": {
      "text/plain": [
       "torch.Size([36, 250])"
      ]
     },
     "execution_count": 130,
     "metadata": {},
     "output_type": "execute_result"
    }
   ],
   "source": [
    "W1.shape"
   ]
  },
  {
   "cell_type": "code",
   "execution_count": 131,
   "metadata": {},
   "outputs": [
    {
     "ename": "AttributeError",
     "evalue": "'Tensor' object has no attribute 'sha'",
     "output_type": "error",
     "traceback": [
      "\u001b[0;31m---------------------------------------------------------------------------\u001b[0m",
      "\u001b[0;31mAttributeError\u001b[0m                            Traceback (most recent call last)",
      "Cell \u001b[0;32mIn[131], line 1\u001b[0m\n\u001b[0;32m----> 1\u001b[0m \u001b[43mtorch\u001b[49m\u001b[38;5;241;43m.\u001b[39;49m\u001b[43mtensor\u001b[49m\u001b[43m(\u001b[49m\u001b[43m[\u001b[49m\u001b[43mcontext\u001b[49m\u001b[43m]\u001b[49m\u001b[43m)\u001b[49m\u001b[38;5;241;43m.\u001b[39;49m\u001b[43msha\u001b[49m\n",
      "\u001b[0;31mAttributeError\u001b[0m: 'Tensor' object has no attribute 'sha'"
     ]
    }
   ],
   "source": [
    "torch.tensor([context]).sha"
   ]
  },
  {
   "cell_type": "markdown",
   "metadata": {},
   "source": [
    "## Makemore: PART 2"
   ]
  },
  {
   "cell_type": "code",
   "execution_count": 1,
   "metadata": {},
   "outputs": [],
   "source": [
    "import torch\n",
    "import torch.nn.functional as F\n",
    "import matplotlib.pyplot as plt\n",
    "import random\n",
    "%matplotlib inline"
   ]
  },
  {
   "cell_type": "code",
   "execution_count": 2,
   "metadata": {},
   "outputs": [],
   "source": [
    "# read words\n",
    "with open(\"names.txt\", 'r') as f:\n",
    "    words = f.read().splitlines(keepends=False)"
   ]
  },
  {
   "cell_type": "code",
   "execution_count": 3,
   "metadata": {},
   "outputs": [
    {
     "name": "stdout",
     "output_type": "stream",
     "text": [
      "Vocab size: 27\n"
     ]
    }
   ],
   "source": [
    "# build char vocab and mapping\n",
    "chars = sorted(list(set(''.join(words))))\n",
    "\n",
    "stoi = {s: i+1 for i,s in enumerate(chars)}\n",
    "stoi['.'] = 0\n",
    "itos = {i:s for s, i in stoi.items()}\n",
    "vocab_size = len(itos)\n",
    "print(f\"Vocab size: {vocab_size}\")\n"
   ]
  },
  {
   "cell_type": "code",
   "execution_count": 4,
   "metadata": {},
   "outputs": [],
   "source": [
    "# build the dataset\n",
    "block_size = 3\n",
    "\n",
    "def build_dataset(words):\n",
    "    X, Y = [], []\n",
    "    for w in words:\n",
    "        context = [0] * block_size\n",
    "        for ch in w + '.':\n",
    "            ix = stoi[ch]\n",
    "            X.append(context)\n",
    "            Y.append(ix)\n",
    "            context = context[1:] + [ix]\n",
    "    \n",
    "    X = torch.tensor(X)\n",
    "    Y = torch.tensor(Y)\n",
    "\n",
    "    return X,Y"
   ]
  },
  {
   "cell_type": "code",
   "execution_count": 5,
   "metadata": {},
   "outputs": [],
   "source": [
    "random_seed = 2147483647\n",
    "random.seed(random_seed)\n",
    "g = torch.Generator().manual_seed(random_seed)"
   ]
  },
  {
   "cell_type": "code",
   "execution_count": 6,
   "metadata": {},
   "outputs": [],
   "source": [
    "# train, val, test split\n",
    "random.shuffle(words)\n",
    "\n",
    "train_split = .8; val_split = .1\n",
    "\n",
    "n1 = int(train_split * len(words))\n",
    "n2 = int((train_split + val_split) * len(words))\n",
    "\n",
    "X_train, Y_train = build_dataset(words[:n1])\n",
    "X_val, Y_val = build_dataset(words[n1:n2])\n",
    "X_test, Y_test = build_dataset(words[n2:])"
   ]
  },
  {
   "cell_type": "code",
   "execution_count": 81,
   "metadata": {},
   "outputs": [
    {
     "name": "stdout",
     "output_type": "stream",
     "text": [
      "19551\n"
     ]
    }
   ],
   "source": [
    "# build MLP\n",
    "\n",
    "# MLP structure params\n",
    "emb_dim_size = 12\n",
    "hidden_layer_size = 300\n",
    "\n",
    "# MLP params\n",
    "C = torch.randn((vocab_size, emb_dim_size), generator=g).float() # represent each character in dim space\n",
    "W1 = torch.randn((block_size * emb_dim_size, hidden_layer_size), generator=g).float() # weights for hidden layer, for each neuron, it will receive block_size number of i/p, each i/p of dimension dim_size\n",
    "W1 = W1 * (5/3) / ((block_size * emb_dim_size) ** 0.5) # kiming_init - to \"fight the contraction of tanh\", preserve gaussian std. -> to resolve tanh saturation\n",
    "b1 = torch.randn(hidden_layer_size, generator=g).float() # each neuron will have 1-D bias\n",
    "b1 = b1 * 0.001 # to resolve tanh saturation\n",
    "W2 = torch.randn((hidden_layer_size, vocab_size), generator=g).float() # weights for output layer, each neuron of hidden layer fully connected to each neuron of output layer\n",
    "W2 = W2 * 0.01 # to normalize loss at initialization\n",
    "b2 = torch.randn(vocab_size, generator=g).float() # num_neurons in output layer equal to vocab size, to represent probs for each character\n",
    "b2 = b2 * 0 # to normalize loss at initialization\n",
    "params = [C, W1, b1, W2, b2]\n",
    "\n",
    "print(sum(p.nelement() for p in params))\n",
    "\n",
    "for p in params:\n",
    "    p.requires_grad = True"
   ]
  },
  {
   "cell_type": "code",
   "execution_count": 82,
   "metadata": {},
   "outputs": [],
   "source": [
    "# hyperparams\n",
    "n_epochs = 200000\n",
    "batch_size = 32"
   ]
  },
  {
   "cell_type": "code",
   "execution_count": 83,
   "metadata": {},
   "outputs": [
    {
     "name": "stderr",
     "output_type": "stream",
     "text": [
      "/tmp/ipykernel_16164/3304915309.py:16: UserWarning: Implicit dimension choice for softmax has been deprecated. Change the call to include dim=X as an argument.\n",
      "  probs = F.softmax(logits)\n"
     ]
    },
    {
     "name": "stdout",
     "output_type": "stream",
     "text": [
      "Step 0 / 200000: Loss: 3.2670\n"
     ]
    },
    {
     "name": "stdout",
     "output_type": "stream",
     "text": [
      "Step 10000 / 200000: Loss: 2.1851\n",
      "Step 20000 / 200000: Loss: 2.2768\n",
      "Step 30000 / 200000: Loss: 2.0473\n",
      "Step 40000 / 200000: Loss: 1.9482\n",
      "Step 50000 / 200000: Loss: 1.8759\n",
      "Step 60000 / 200000: Loss: 1.9266\n",
      "Step 70000 / 200000: Loss: 2.3350\n",
      "Step 80000 / 200000: Loss: 1.7527\n",
      "Step 90000 / 200000: Loss: 2.4476\n",
      "Step 100000 / 200000: Loss: 1.7695\n",
      "Step 110000 / 200000: Loss: 2.1749\n",
      "Step 120000 / 200000: Loss: 2.0172\n",
      "Step 130000 / 200000: Loss: 2.7008\n",
      "Step 140000 / 200000: Loss: 1.9047\n",
      "Step 150000 / 200000: Loss: 1.9501\n",
      "Step 160000 / 200000: Loss: 1.7587\n",
      "Step 170000 / 200000: Loss: 1.9427\n",
      "Step 180000 / 200000: Loss: 2.3339\n",
      "Step 190000 / 200000: Loss: 1.9075\n",
      "Loss post training: 2.352978229522705\n"
     ]
    }
   ],
   "source": [
    "stepi, lossi = [], []\n",
    "\n",
    "def train(X: torch.Tensor, Y: torch.Tensor):\n",
    "    for i in range(n_epochs):\n",
    "        # forward pass\n",
    "        # minibatch construct\n",
    "        ix = torch.randint(0, X.shape[0], (batch_size, ), generator=g)\n",
    "        \n",
    "        xi = C[X[ix]]\n",
    "        yi = Y[ix]\n",
    "\n",
    "        xicat = xi.view(xi.shape[0], block_size * emb_dim_size) # concatenate the vectors to facilitate matmul w/ W1\n",
    "        h_preact = xicat @ W1 + b1 # hidden layer pre-activation\n",
    "        h: torch.Tensor = F.tanh(h_preact) # hidden layer # tanh saturation prone. TODO: Read more.\n",
    "        logits = h @ W2 + b2 # output layer\n",
    "        probs = F.softmax(logits)\n",
    "        loss = F.cross_entropy(logits, yi)\n",
    "\n",
    "        # backward pass\n",
    "        #zero-grad\n",
    "        for p in params:\n",
    "            p.grad = None\n",
    "        \n",
    "        loss.backward()\n",
    "\n",
    "        #update\n",
    "        lr = 10 ** -1 if i < 100000 else 10 ** -2\n",
    "        for p in params:\n",
    "            p.data += -lr * p.grad\n",
    "        \n",
    "        # track stats\n",
    "        stepi.append(i)\n",
    "        lossi.append(loss.item())\n",
    "\n",
    "        # print logs every once in a while\n",
    "        if i % 10000 == 0:\n",
    "            print(f\"Step {i} / {n_epochs}: Loss: {loss:.4f}\")\n",
    "        \n",
    "        # Run below code on just first step to see if tanh saturation occurs and if you got any dead neurons\n",
    "        # plt.hist(h.view(-1).tolist(), bins=50) # sorta uniformly distributed b/w -0.5-0.5, slightly tapering off towards 1/-1, ideally very low examples at extremes\n",
    "        # plt.hist(h_preact.view(-1).tolist(), bins=50) # should be pretty constricted, look at the x-axis values where the pre-acts are tapering off, they shouldn't be rel. small, ideally below 2\n",
    "        # plt.figure(figsize=(20, 10))\n",
    "        # plt.imshow(h.abs() > 0.99, cmap='gray', interpolation='nearest') # white corresponds to examples where h becomes 1/-1, ideally need very few white boxes, if you see an entire white vertical line, thats a dead neuron, very very problematic.\n",
    "        # break\n",
    "    print(f\"Loss post training: {loss}\")\n",
    "\n",
    "        \n",
    "\n",
    "train(X_train, Y_train)\n"
   ]
  },
  {
   "cell_type": "code",
   "execution_count": 84,
   "metadata": {},
   "outputs": [
    {
     "data": {
      "text/plain": [
       "[<matplotlib.lines.Line2D at 0x72e9208d30e0>]"
      ]
     },
     "execution_count": 84,
     "metadata": {},
     "output_type": "execute_result"
    },
    {
     "data": {
      "image/png": "[encoded data removed]",
      "text/plain": [
       "<Figure size 640x480 with 1 Axes>"
      ]
     },
     "metadata": {},
     "output_type": "display_data"
    }
   ],
   "source": [
    "plt.plot(stepi, lossi)"
   ]
  },
  {
   "cell_type": "code",
   "execution_count": 16,
   "metadata": {},
   "outputs": [
    {
     "data": {
      "text/plain": [
       "tensor([[ 0.1709,  0.8269,  0.8992,  ...,  0.1804,  2.1570,  0.1267],\n",
       "        [-0.1460,  1.3890, -0.3706,  ...,  1.0327, -1.5075, -0.3132],\n",
       "        [ 1.4641,  1.6654,  0.6373,  ..., -1.3728,  0.0895, -0.2641],\n",
       "        ...,\n",
       "        [-0.2528, -0.6040, -1.9201,  ...,  1.2785, -0.6945,  0.9667],\n",
       "        [ 0.8409, -1.2842,  0.5023,  ...,  0.0731, -0.2719, -2.2700],\n",
       "        [-1.0247,  0.8835, -1.1529,  ..., -0.2901, -0.2698,  0.5494]],\n",
       "       requires_grad=True)"
      ]
     },
     "execution_count": 16,
     "metadata": {},
     "output_type": "execute_result"
    }
   ],
   "source": [
    "W1"
   ]
  },
  {
   "cell_type": "code",
   "execution_count": 85,
   "metadata": {},
   "outputs": [
    {
     "name": "stdout",
     "output_type": "stream",
     "text": [
      "train loss = 2.0085878372192383\n",
      "val loss = 2.1038553714752197\n",
      "test loss = 2.0997254848480225\n"
     ]
    }
   ],
   "source": [
    "@torch.no_grad() # decorator prevents gradient tracking\n",
    "def split_loss(split: str):\n",
    "    x, y = {\n",
    "        'train': (X_train, Y_train),\n",
    "        'val': (X_val, Y_val),\n",
    "        'test': (X_test, Y_test)\n",
    "    }[split]\n",
    "\n",
    "    emb = C[x]\n",
    "    embcat = emb.view(emb.shape[0], block_size * emb_dim_size)\n",
    "    h = F.tanh(embcat @ W1 + b1)\n",
    "    logits = h @ W2 + b2\n",
    "    loss = F.cross_entropy(logits, y)\n",
    "\n",
    "    print(f\"{split} loss = {loss.item()}\")\n",
    "\n",
    "split_loss('train')\n",
    "split_loss('val')\n",
    "split_loss('test')\n",
    "\n",
    "\n"
   ]
  },
  {
   "cell_type": "code",
   "execution_count": 86,
   "metadata": {},
   "outputs": [
    {
     "name": "stdout",
     "output_type": "stream",
     "text": [
      "louri.\n",
      "markota.\n",
      "kaysi.\n",
      "jacarlo.\n",
      "abrik.\n",
      "bryck.\n",
      "ori.\n",
      "jair.\n",
      "jalanie.\n",
      "ozeric.\n",
      "jasiman.\n",
      "khal.\n",
      "jerie.\n",
      "anna.\n",
      "abrie.\n",
      "ala.\n",
      "haihanyla.\n",
      "tas.\n",
      "sadeyah.\n",
      "davious.\n"
     ]
    },
    {
     "name": "stderr",
     "output_type": "stream",
     "text": [
      "/tmp/ipykernel_16164/3918031224.py:13: UserWarning: Implicit dimension choice for softmax has been deprecated. Change the call to include dim=X as an argument.\n",
      "  probs = F.softmax(logits)\n"
     ]
    }
   ],
   "source": [
    "# sample from the model\n",
    "\n",
    "def sample(num_samples: int = 20):\n",
    "    for _ in range(num_samples):\n",
    "        samples = []\n",
    "        context = [0] * block_size # init with all ...\n",
    "        while True:\n",
    "            # forward pass the neural net\n",
    "            emb = C[torch.tensor([context])]\n",
    "            embcat = emb.view(1, -1)\n",
    "            h = F.tanh(embcat @ W1 + b1)\n",
    "            logits = h @ W2 + b2\n",
    "            probs = F.softmax(logits)\n",
    "            # sample from the distribution\n",
    "            ix = torch.multinomial(probs, num_samples=1, generator=g).item()\n",
    "            context = context[1:] + [ix]\n",
    "            samples.append(ix)\n",
    "            if ix == 0:\n",
    "                break\n",
    "        \n",
    "        print(''.join(itos[i] for i in samples))\n",
    "\n",
    "sample()\n"
   ]
  },
  {
   "cell_type": "code",
   "execution_count": 33,
   "metadata": {},
   "outputs": [
    {
     "data": {
      "text/plain": [
       "tensor(3.2958)"
      ]
     },
     "execution_count": 33,
     "metadata": {},
     "output_type": "execute_result"
    }
   ],
   "source": [
    "# at initializaiton\n",
    "# uniform prob\n",
    "-torch.tensor(1/27.0).log() # ideal loss at init."
   ]
  },
  {
   "cell_type": "markdown",
   "metadata": {},
   "source": [
    "## Pointers to keep in mind\n",
    "\n",
    "#### 1. Fix softmax being confidently wrong\n",
    "        If you start with random weights and biases for the output layer, softmax will confidently label the probability of some neurons (i.e, candidate characters) too highly and for others it will label the probs as too low (in order to sum to 1). This becomes problematic when the neurons it chooses (at random, because remember, W2, b2 are torch.randn), are false positives, i.e, they don't have very good probabilities in the true set. \n",
    "\n",
    "        This makes the network have very high losses in the first few steps, wherein it tries to converge from the confidently wrong estimates to realistic outputs.\n",
    "\n",
    "        In the case of language modelling, this can be easily fixed by initializing W2 and b2 as very low floats, in order to squash down this confident behaviour down to the median, which is essentially attributing equal probs to each of the neurons. \n",
    "        \n",
    "        You can observe this by checking how close the loss of the 1st step is to the value of the negative log of (1/num_output_neurons).\n",
    "\n",
    "### 2. Fix tanh saturation\n",
    "        "
   ]
  }
 ],
 "metadata": {
  "kernelspec": {
   "display_name": "makemore",
   "language": "python",
   "name": "python3"
  },
  "language_info": {
   "codemirror_mode": {
    "name": "ipython",
    "version": 3
   },
   "file_extension": ".py",
   "mimetype": "text/x-python",
   "name": "python",
   "nbconvert_exporter": "python",
   "pygments_lexer": "ipython3",
   "version": "3.12.8"
  }
 },
 "nbformat": 4,
 "nbformat_minor": 2
}
