{
 "cells": [
  {
   "cell_type": "code",
   "execution_count": 366,
   "metadata": {},
   "outputs": [
    {
     "name": "stdout",
     "output_type": "stream",
     "text": [
      "no change     /home/igarg/miniconda3/condabin/conda\n",
      "no change     /home/igarg/miniconda3/bin/conda\n",
      "no change     /home/igarg/miniconda3/bin/conda-env\n",
      "no change     /home/igarg/miniconda3/bin/activate\n",
      "no change     /home/igarg/miniconda3/bin/deactivate\n",
      "no change     /home/igarg/miniconda3/etc/profile.d/conda.sh\n",
      "no change     /home/igarg/miniconda3/etc/fish/conf.d/conda.fish\n",
      "no change     /home/igarg/miniconda3/shell/condabin/Conda.psm1\n",
      "no change     /home/igarg/miniconda3/shell/condabin/conda-hook.ps1\n",
      "no change     /home/igarg/miniconda3/lib/python3.12/site-packages/xontrib/conda.xsh\n",
      "no change     /home/igarg/miniconda3/etc/profile.d/conda.csh\n",
      "no change     /home/igarg/.bashrc\n",
      "No action taken.\n",
      "\n",
      "CondaError: Run 'conda init' before 'conda activate'\n",
      "\n"
     ]
    }
   ],
   "source": [
    "!conda init && conda activate makemore"
   ]
  },
  {
   "cell_type": "code",
   "execution_count": 367,
   "metadata": {},
   "outputs": [],
   "source": [
    "import os\n",
    "from pathlib import Path\n",
    "import torch\n",
    "import matplotlib.pyplot as plt\n",
    "import numpy as np\n",
    "from typing import List\n",
    "import torch.nn.functional as F\n",
    "\n",
    "\n",
    "%matplotlib inline"
   ]
  },
  {
   "cell_type": "code",
   "execution_count": 368,
   "metadata": {},
   "outputs": [],
   "source": [
    "file_path = Path(\"names.txt\").resolve()"
   ]
  },
  {
   "cell_type": "code",
   "execution_count": 369,
   "metadata": {},
   "outputs": [],
   "source": [
    "if not file_path.is_file():\n",
    "    raise FileNotFoundError(f\"No file with the name {file_path} is present. Ensure that the file is present before proceeding\")"
   ]
  },
  {
   "cell_type": "code",
   "execution_count": 370,
   "metadata": {},
   "outputs": [],
   "source": [
    "with open(file_path, \"r\") as f:\n",
    "    words = f.read().splitlines(keepends=False)"
   ]
  },
  {
   "cell_type": "code",
   "execution_count": 371,
   "metadata": {},
   "outputs": [
    {
     "data": {
      "text/plain": [
       "['emma',\n",
       " 'olivia',\n",
       " 'ava',\n",
       " 'isabella',\n",
       " 'sophia',\n",
       " 'charlotte',\n",
       " 'mia',\n",
       " 'amelia',\n",
       " 'harper',\n",
       " 'evelyn']"
      ]
     },
     "execution_count": 371,
     "metadata": {},
     "output_type": "execute_result"
    }
   ],
   "source": [
    "words[:10]"
   ]
  },
  {
   "cell_type": "code",
   "execution_count": 372,
   "metadata": {},
   "outputs": [],
   "source": [
    "shape = (27, 27)"
   ]
  },
  {
   "cell_type": "code",
   "execution_count": 373,
   "metadata": {},
   "outputs": [
    {
     "data": {
      "text/plain": [
       "27"
      ]
     },
     "execution_count": 373,
     "metadata": {},
     "output_type": "execute_result"
    }
   ],
   "source": [
    "chars = sorted(list(set(''.join(words))))\n",
    "stoi = {s: i+1 for i, s in enumerate(chars)}\n",
    "stoi['.'] = 0\n",
    "\n",
    "itos = {i: s for s, i in stoi.items()}\n",
    "vocab_size = len(itos)\n",
    "vocab_size"
   ]
  },
  {
   "cell_type": "code",
   "execution_count": 374,
   "metadata": {},
   "outputs": [],
   "source": [
    "# build the dataset\n",
    "\n",
    "block_size = 8 # context length: no of chars needed prev to predict next char\n",
    "\n",
    "X, Y = [], []\n",
    "\n",
    "for w in words:\n",
    "    # print(w)\n",
    "    context = [0] * block_size\n",
    "    for ch in w + '.':\n",
    "        ix = stoi[ch]\n",
    "        X.append(context)\n",
    "        Y.append(ix)\n",
    "        # print(f\"{''.join(itos[i] for i in context)} ---> {itos[ix]}\")\n",
    "        context = context[1:] + [ix]\n",
    "X = torch.tensor(X)\n",
    "Y = torch.tensor(Y)\n"
   ]
  },
  {
   "cell_type": "code",
   "execution_count": 375,
   "metadata": {},
   "outputs": [
    {
     "data": {
      "text/plain": [
       "(torch.Size([228146, 8]), torch.int64, torch.Size([228146]), torch.int64)"
      ]
     },
     "execution_count": 375,
     "metadata": {},
     "output_type": "execute_result"
    }
   ],
   "source": [
    "X.shape, X.dtype, Y.shape, Y.dtype"
   ]
  },
  {
   "cell_type": "code",
   "execution_count": 376,
   "metadata": {},
   "outputs": [],
   "source": [
    "# build the dataset\n",
    "\n",
    "def build_dataset(words):\n",
    "\n",
    "    block_size = 8 # context length: no of chars needed prev to predict next char\n",
    "\n",
    "    X, Y = [], []\n",
    "\n",
    "    for w in words:\n",
    "        # print(w)\n",
    "        context = [0] * block_size\n",
    "        for ch in w + '.':\n",
    "            ix = stoi[ch]\n",
    "            X.append(context)\n",
    "            Y.append(ix)\n",
    "            # print(f\"{''.join(itos[i] for i in context)} ---> {itos[ix]}\")\n",
    "            context = context[1:] + [ix]\n",
    "    X = torch.tensor(X)\n",
    "    Y = torch.tensor(Y)\n",
    "\n",
    "    return X, Y\n"
   ]
  },
  {
   "cell_type": "code",
   "execution_count": 377,
   "metadata": {},
   "outputs": [
    {
     "data": {
      "text/plain": [
       "<torch._C.Generator at 0x7a662352bdf0>"
      ]
     },
     "execution_count": 377,
     "metadata": {},
     "output_type": "execute_result"
    }
   ],
   "source": [
    "torch.manual_seed(42) # seed rng for reproducibility"
   ]
  },
  {
   "cell_type": "code",
   "execution_count": 378,
   "metadata": {},
   "outputs": [],
   "source": [
    "import random\n",
    "random.seed(42)\n",
    "\n",
    "n1 = int(.8 * len(words))\n",
    "n2 = int(.9 * len(words))\n",
    "\n",
    "Xtrain, Ytrain = build_dataset(words[:n1])\n",
    "Xval, Yval = build_dataset(words[n1:n2])\n",
    "Xtest, Ytest = build_dataset(words[n2:])"
   ]
  },
  {
   "cell_type": "code",
   "execution_count": 379,
   "metadata": {},
   "outputs": [
    {
     "name": "stdout",
     "output_type": "stream",
     "text": [
      "........ ----> e\n",
      ".......e ----> m\n",
      "......em ----> m\n",
      ".....emm ----> a\n",
      "....emma ----> .\n",
      "........ ----> o\n",
      ".......o ----> l\n",
      "......ol ----> i\n",
      ".....oli ----> v\n",
      "....oliv ----> i\n",
      "...olivi ----> a\n",
      "..olivia ----> .\n",
      "........ ----> a\n",
      ".......a ----> v\n",
      "......av ----> a\n",
      ".....ava ----> .\n",
      "........ ----> i\n",
      ".......i ----> s\n",
      "......is ----> a\n",
      ".....isa ----> b\n"
     ]
    }
   ],
   "source": [
    "for x, y in zip(Xtrain[:20], Ytrain[:20]):\n",
    "    print(\"\".join(itos[ix.item()] for ix in x), '---->', itos[y.item()])"
   ]
  },
  {
   "cell_type": "code",
   "execution_count": 380,
   "metadata": {},
   "outputs": [],
   "source": [
    "class Embedding: # to replicate C (embedding lookup table) init and emb = C[xb]\n",
    "    def __init__(self, vocab_size: int, embed_size: int):\n",
    "        self.weight = torch.randn((vocab_size, embed_size)).float()\n",
    "    \n",
    "    def __call__(self, IX: torch.Tensor) -> torch.Tensor:\n",
    "        self.out = self.weight[IX]\n",
    "        return self.out\n",
    "    \n",
    "    def parameters(self) -> List[torch.Tensor]:\n",
    "        return [self.weight]"
   ]
  },
  {
   "cell_type": "code",
   "execution_count": 381,
   "metadata": {},
   "outputs": [],
   "source": [
    "class Flatten: # to replicate emb.view(emb.shape[0], -1)\n",
    "    def __call__(self, x:torch.Tensor) -> torch.Tensor:\n",
    "        self.out = x.view(x.shape[0], int(block_size / 2), -1)\n",
    "        return self.out\n",
    "\n",
    "    def parameters(self) -> List:\n",
    "        return []\n",
    "\n",
    "class FlattenConsecutive: # flattens out n consecutive elements along a dim\n",
    "    def __init__(self, n: int):\n",
    "        self.n = n\n",
    "    def __call__(self, x:torch.Tensor) -> torch.Tensor:\n",
    "        B, T, C = x.shape\n",
    "        x = x.view(B, T//self.n, C*self.n)\n",
    "        if x.shape[1] == 1:\n",
    "            x = x.squeeze(1)\n",
    "        self.out = x\n",
    "        return self.out\n",
    "\n",
    "    def parameters(self) -> List:\n",
    "        return []"
   ]
  },
  {
   "cell_type": "code",
   "execution_count": 382,
   "metadata": {},
   "outputs": [],
   "source": [
    "class Linear: # torch.nn.Linear\n",
    "    def __init__(self, fan_in: torch.Tensor, fan_out: torch.Tensor, bias: bool = True) -> None:\n",
    "        self.weight: torch.Tensor = torch.randn((fan_in, fan_out))\n",
    "        self.weight = self.weight / (fan_in ** 0.5) # gain initialization (kaiming init)\n",
    "        self.bias = torch.zeros(fan_out) if bias else None\n",
    "    \n",
    "    def __call__(self, x: torch.Tensor) -> torch.Tensor:\n",
    "        # print(x.shape, self.weight.shape)\n",
    "        self.out = x @ self.weight\n",
    "        if self.bias is not None:\n",
    "            # print(self.out.shape)\n",
    "            self.out += self.bias\n",
    "\n",
    "        return self.out\n",
    "    \n",
    "    def parameters(self) -> List:\n",
    "        return [self.weight] + ([] if self.bias is None else [self.bias])\n"
   ]
  },
  {
   "cell_type": "code",
   "execution_count": 383,
   "metadata": {},
   "outputs": [],
   "source": [
    "class BatchNorm1d:\n",
    "    def __init__(\n",
    "        self,\n",
    "        num_features: int,\n",
    "        eps: float = 1e-5,\n",
    "        momentum: float = 0.1,\n",
    "        affine=True,\n",
    "        track_running_stats=True,\n",
    "    ) -> None:\n",
    "        # initialization\n",
    "        self.eps = eps\n",
    "        self.momentum = momentum\n",
    "        self.training = True  # different behaviours during training and evaluation such as optim of gamma & beta during training but not during eval\n",
    "\n",
    "        # params (trained w. backprop update)\n",
    "        self.gamma = torch.ones((num_features))\n",
    "        self.beta = torch.zeros((num_features))\n",
    "\n",
    "        # buffers (trained w. running momentum update)\n",
    "        self.running_mean = torch.zeros(num_features)\n",
    "        self.running_variance = torch.ones(num_features)\n",
    "\n",
    "    def __call__(self, x: torch.Tensor) -> torch.Tensor:\n",
    "        # forward pass\n",
    "        if self.training:\n",
    "            if x.ndim == 2:\n",
    "                dim = 0\n",
    "            elif x.ndim == 3:\n",
    "                dim = (0, 1)\n",
    "            mean = x.mean(dim, keepdim=True) # batch mean\n",
    "            variance = x.var(dim, keepdim=True) # batch variance\n",
    "        else:\n",
    "            mean = self.running_mean\n",
    "            variance = self.running_variance\n",
    "        \n",
    "        xhat = (x - mean) / torch.sqrt(variance + self.eps)\n",
    "        self.out = xhat * self.gamma + self.beta\n",
    "\n",
    "        # update the buffers\n",
    "        if self.training:\n",
    "            with torch.no_grad():\n",
    "                self.running_mean = (1 - self.momentum) * self.running_mean + self.momentum * mean\n",
    "                self.running_variance = (1 - self.momentum) * self.running_variance + self.momentum * variance\n",
    "        \n",
    "        return self.out\n",
    "    \n",
    "    def parameters(self) -> List:\n",
    "        return [self.gamma, self.beta]\n",
    "\n",
    "        \n",
    "\n"
   ]
  },
  {
   "cell_type": "code",
   "execution_count": 384,
   "metadata": {},
   "outputs": [],
   "source": [
    "class Tanh:\n",
    "    def __call__(self, x: torch.Tensor) -> torch.Tensor:\n",
    "        self.out = F.tanh(x)\n",
    "        return self.out\n",
    "    \n",
    "    def parameters(self):\n",
    "        return []"
   ]
  },
  {
   "cell_type": "code",
   "execution_count": 385,
   "metadata": {},
   "outputs": [],
   "source": [
    "class Sequential:\n",
    "    def __init__(self, layers: List[torch.Tensor]):\n",
    "        self.layers = layers\n",
    "\n",
    "    def __call__(self, x: torch.Tensor) -> torch.Tensor:\n",
    "        for layer in self.layers:\n",
    "            x = layer(x)\n",
    "        self.out = x\n",
    "        return self.out\n",
    "    \n",
    "    def parameters(self):\n",
    "        return [p for layer in self.layers for p in layer.parameters()]"
   ]
  },
  {
   "cell_type": "code",
   "execution_count": 386,
   "metadata": {},
   "outputs": [],
   "source": [
    "n_embed = 24\n",
    "n_hidden = 128\n",
    "block_size = 8\n",
    "inner_batch_dim = 2"
   ]
  },
  {
   "cell_type": "code",
   "execution_count": 387,
   "metadata": {},
   "outputs": [],
   "source": [
    "# # C = torch.randn((vocab_size, n_embed)).float()\n",
    "# model = Sequential(\n",
    "#     [\n",
    "#         Embedding(vocab_size, n_embed),\n",
    "#         # Flatten(),\n",
    "#         FlattenConsecutive(inner_batch_dim),\n",
    "#         Linear(inner_batch_dim * n_embed, n_hidden, bias=False), # (n_embed * block_size) / (block_size / 2) # (can also think of it as 2 examples only)\n",
    "#         BatchNorm1d(n_hidden),\n",
    "#         Tanh(),  # input_layer\n",
    "#         # Linear(n_hidden, n_hidden), BatchNorm1d(n_hidden), Tanh(),\n",
    "#         # Linear(n_hidden, n_hidden),BatchNorm1d(n_hidden), Tanh(),\n",
    "#         # Linear(n_hidden, n_hidden),BatchNorm1d(n_hidden), Tanh(),\n",
    "#         # Linear(n_hidden, n_hidden),BatchNorm1d(n_hidden), Tanh(),\n",
    "#         Linear(n_hidden, vocab_size),  # output layer\n",
    "#     ]\n",
    "# )"
   ]
  },
  {
   "cell_type": "code",
   "execution_count": 388,
   "metadata": {},
   "outputs": [],
   "source": [
    "# C = torch.randn((vocab_size, n_embed)).float()\n",
    "model = Sequential(\n",
    "    [\n",
    "        Embedding(vocab_size, n_embed),\n",
    "        FlattenConsecutive(inner_batch_dim), Linear(inner_batch_dim * n_embed, n_hidden, bias=False), BatchNorm1d(n_hidden), Tanh(),\n",
    "        FlattenConsecutive(inner_batch_dim), Linear(inner_batch_dim * n_hidden, n_hidden, bias=False), BatchNorm1d(n_hidden), Tanh(),\n",
    "        FlattenConsecutive(inner_batch_dim), Linear(inner_batch_dim * n_hidden, n_hidden, bias=False), BatchNorm1d(n_hidden), Tanh(),\n",
    "        Linear(n_hidden, vocab_size),\n",
    "    ]\n",
    ")"
   ]
  },
  {
   "cell_type": "code",
   "execution_count": 389,
   "metadata": {},
   "outputs": [
    {
     "name": "stdout",
     "output_type": "stream",
     "text": [
      "76579\n"
     ]
    }
   ],
   "source": [
    "# parameter init\n",
    "with torch.no_grad():\n",
    "    model.layers[-1].weight *= 0.1  # make last layer less confident\n",
    "\n",
    "# parameters = [C] + [p for layer in layers for p in layer.parameters()]\n",
    "parameters =  model.parameters()\n",
    "print(sum(p.nelement() for p in parameters))\n",
    "for p in parameters:\n",
    "    p.requires_grad = True"
   ]
  },
  {
   "cell_type": "markdown",
   "metadata": {},
   "source": [
    "### Debugging Stuff Below, commented out, uncomment to play"
   ]
  },
  {
   "cell_type": "code",
   "execution_count": 390,
   "metadata": {},
   "outputs": [],
   "source": [
    "# ix = torch.randint(0, Xtrain.shape[0], (4, )) # batch size: 4\n",
    "# Xb, Yb = Xtrain[ix], Ytrain[ix]\n",
    "# logits = model(Xb)\n",
    "# print(Xb.shape)\n",
    "# Xb"
   ]
  },
  {
   "cell_type": "code",
   "execution_count": 391,
   "metadata": {},
   "outputs": [],
   "source": [
    "# model.layers[0].out.shape # embedding layer"
   ]
  },
  {
   "cell_type": "code",
   "execution_count": 392,
   "metadata": {},
   "outputs": [],
   "source": [
    "# model.layers[1].out.shape # flatten layer"
   ]
  },
  {
   "cell_type": "code",
   "execution_count": 393,
   "metadata": {},
   "outputs": [],
   "source": [
    "# model.layers[2].out.shape # linear layer"
   ]
  },
  {
   "cell_type": "code",
   "execution_count": 394,
   "metadata": {},
   "outputs": [],
   "source": [
    "# # what happens inside Linear layer in MLP case:\n",
    "# ((torch.randn(4, 80) @ torch.randn(80, 200)) + torch.randn(200)).shape # [4, 200] -> [batch_size, n_hidden]\n",
    "# # right now, the linear layer multiplies all the characters of an example with the weight matrix, effectively multiplying 80 numbers. each character is 10-dim.\n",
    "# # we want to change that to the following: (1 2) (3 4) (5 6) (7 8)\n",
    "# # basically, we want to group our 8-char example to pairs of bigrams, and then in the 1st linear layer, just multiply these bigrams.\n",
    "# # don't want to congest all 80 characters in 1 linear layer\n",
    "# # so currently we do (4, 80) X (80, 200)\n",
    "# # but, now since we want to multiply only 2 characters at a time, we want the common dimension to be 2x10 = 20 (10-dim character)\n",
    "# # so x@W+b, x would become (4,4,20) and W shape -> (20, 200)\n",
    "# # something similar to\n",
    "# ((torch.randn(4, 4, 20) @ torch.randn(20, 200)) + torch.randn(200)).shape # [4, 4, 200] # [batch_size, block_size/2, n_hidden]\n",
    "# # to generate X's similar to above, need to change Flatten layer logic\n",
    "# # would also have to change weight matrix shape to make it multiplicable"
   ]
  },
  {
   "cell_type": "code",
   "execution_count": 395,
   "metadata": {},
   "outputs": [],
   "source": [
    "# for layer in model.layers:\n",
    "#     print(f\"{layer.__class__.__name__}: {tuple(layer.out.shape)}\")"
   ]
  },
  {
   "cell_type": "code",
   "execution_count": 396,
   "metadata": {},
   "outputs": [],
   "source": [
    "# e = torch.randn(32, 4, 68) \n",
    "# mean = e.mean((0, 1), keepdim=True).squeeze() # (1, 4, 68)\n",
    "# var = e.var((0, 1), keepdim=True, unbiased=True).squeeze() # (1, 4, 68)\n",
    "# ehat = (e - mean) / torch.sqrt((var + 1e-5)) # (32, 4, 68)\n",
    "# e.shape, mean.shape, var.shape, ehat.shape"
   ]
  },
  {
   "cell_type": "code",
   "execution_count": 397,
   "metadata": {},
   "outputs": [
    {
     "name": "stdout",
     "output_type": "stream",
     "text": [
      "Step 0 / 200000: Loss: 3.2929\n"
     ]
    },
    {
     "name": "stdout",
     "output_type": "stream",
     "text": [
      "Step 10000 / 200000: Loss: 2.0977\n",
      "Step 20000 / 200000: Loss: 1.8548\n",
      "Step 30000 / 200000: Loss: 2.0830\n",
      "Step 40000 / 200000: Loss: 1.8442\n",
      "Step 50000 / 200000: Loss: 2.0697\n",
      "Step 60000 / 200000: Loss: 2.0228\n",
      "Step 70000 / 200000: Loss: 2.0049\n",
      "Step 80000 / 200000: Loss: 1.9009\n",
      "Step 90000 / 200000: Loss: 1.6174\n",
      "Step 100000 / 200000: Loss: 1.8081\n",
      "Step 110000 / 200000: Loss: 1.6347\n",
      "Step 120000 / 200000: Loss: 2.2327\n",
      "Step 130000 / 200000: Loss: 1.7391\n",
      "Step 140000 / 200000: Loss: 1.6210\n",
      "Step 150000 / 200000: Loss: 1.9890\n",
      "Step 160000 / 200000: Loss: 1.8403\n",
      "Step 170000 / 200000: Loss: 1.8621\n",
      "Step 180000 / 200000: Loss: 1.5462\n",
      "Step 190000 / 200000: Loss: 1.8451\n"
     ]
    }
   ],
   "source": [
    "n_epochs = 200_000\n",
    "batch_size = 32\n",
    "\n",
    "lossi = []\n",
    "ud = []  # update:data ratio at each step\n",
    "\n",
    "for i in range(n_epochs):\n",
    "    # minibatch construct\n",
    "    ix = torch.randint(0, Xtrain.shape[0], (batch_size,))\n",
    "    x = Xtrain[ix]\n",
    "    # emb = C[Xtrain[ix]] # moved to layers\n",
    "\n",
    "    # forward pass\n",
    "    # x = emb.view(emb.shape[0], -1) # moved to layers\n",
    "    # for layer in layers:\n",
    "    #     x: torch.Tensor = layer(x)\n",
    "    logits = model(x)\n",
    "    loss: torch.Tensor = F.cross_entropy(logits, Ytrain[ix])\n",
    "\n",
    "    # backward pass\n",
    "    # for layer in layers:\n",
    "    #     layer.out.retain_grad()  ## DEBUG: won't be present in regular training\n",
    "    for p in parameters:\n",
    "        p.grad = None  # zero grad\n",
    "\n",
    "    loss.backward()\n",
    "\n",
    "    # update\n",
    "    lr = 10**-1 if i < 150_000 else (10**-2)\n",
    "    for pi, p in enumerate(parameters):\n",
    "        # try:\n",
    "        p.data += -lr * p.grad\n",
    "    # except Exception as e:\n",
    "    #     print(i, pi, p.grad)\n",
    "    #     raise e\n",
    "\n",
    "    # track stats\n",
    "    lossi.append(loss.log10().item())\n",
    "    with torch.no_grad():\n",
    "        ud.append(\n",
    "            [((lr * p.grad).std() / p.data.std()).log10().item() for p in parameters]\n",
    "        )  # taking log10 to just see the exponents for better viz\n",
    "\n",
    "    if i % 10_000 == 0:\n",
    "        print(f\"Step {i} / {n_epochs}: Loss: {loss:.4f}\")\n",
    "\n",
    "    # if i > 1000:  ## DEBUG: Need to track something so just running until n-th epoch\n",
    "    #     break  ## DEBUG: Need to track something so just running 1 epoch"
   ]
  },
  {
   "cell_type": "code",
   "execution_count": 398,
   "metadata": {},
   "outputs": [
    {
     "data": {
      "text/plain": [
       "[<matplotlib.lines.Line2D at 0x7a657f0cd9d0>]"
      ]
     },
     "execution_count": 398,
     "metadata": {},
     "output_type": "execute_result"
    },
    {
     "data": {
      "image/png": "[encoded data removed]",
      "text/plain": [
       "<Figure size 640x480 with 1 Axes>"
      ]
     },
     "metadata": {},
     "output_type": "display_data"
    }
   ],
   "source": [
    "plt.plot(torch.tensor(lossi).view(-1, 1000).mean(1))"
   ]
  },
  {
   "cell_type": "code",
   "execution_count": 399,
   "metadata": {},
   "outputs": [],
   "source": [
    "for layer in model.layers:\n",
    "    layer.training = False"
   ]
  },
  {
   "cell_type": "code",
   "execution_count": 400,
   "metadata": {},
   "outputs": [
    {
     "name": "stdout",
     "output_type": "stream",
     "text": [
      "train loss = 1.7217023372650146\n",
      "val loss = 2.2392168045043945\n",
      "test loss = 2.287144422531128\n"
     ]
    }
   ],
   "source": [
    "@torch.no_grad()  # decorator prevents gradient tracking\n",
    "def split_loss(split: str):\n",
    "    x, y = {\n",
    "        \"train\": (Xtrain, Ytrain),\n",
    "        \"val\": (Xval, Yval),\n",
    "        \"test\": (Xtest, Ytest),\n",
    "    }[split]\n",
    "\n",
    "    logits = model(x)\n",
    "    loss: torch.Tensor = F.cross_entropy(logits, y)\n",
    "\n",
    "    print(f\"{split} loss = {loss.item()}\")\n",
    "\n",
    "\n",
    "split_loss(\"train\")\n",
    "split_loss(\"val\")\n",
    "split_loss(\"test\")"
   ]
  },
  {
   "cell_type": "code",
   "execution_count": 401,
   "metadata": {},
   "outputs": [
    {
     "name": "stdout",
     "output_type": "stream",
     "text": [
      "aiyana.\n",
      "yaid.\n",
      "jerus.\n",
      "shanvith.\n",
      "raylie.\n",
      "francie.\n",
      "anaylah.\n",
      "mccenan.\n",
      "batori.\n",
      "brynlee.\n",
      "shawn.\n",
      "denice.\n",
      "myndes.\n",
      "dayphel.\n",
      "petrik.\n",
      "isabellaway.\n",
      "sahel.\n",
      "taissa.\n",
      "mackynzee.\n",
      "emmilius.\n"
     ]
    },
    {
     "name": "stderr",
     "output_type": "stream",
     "text": [
      "/tmp/ipykernel_2323/1267346133.py:11: UserWarning: Implicit dimension choice for softmax has been deprecated. Change the call to include dim=X as an argument.\n",
      "  probs = F.softmax(logits)\n"
     ]
    }
   ],
   "source": [
    "# sample from the model\n",
    "\n",
    "def sample(num_samples: int = 20):\n",
    "    for _ in range(num_samples):\n",
    "        samples = []\n",
    "        context = [0] * block_size # init with all ...\n",
    "        while True:\n",
    "            # forward pass the neural net\n",
    "            x = torch.tensor([context])\n",
    "            logits = model(x)\n",
    "            probs = F.softmax(logits)\n",
    "            # sample from the distribution\n",
    "            ix = torch.multinomial(probs, num_samples=1).item()\n",
    "            context = context[1:] + [ix]\n",
    "            samples.append(ix)\n",
    "            if ix == 0:\n",
    "                break\n",
    "        \n",
    "        print(''.join(itos[i] for i in samples))\n",
    "\n",
    "sample()"
   ]
  },
  {
   "cell_type": "code",
   "execution_count": null,
   "metadata": {},
   "outputs": [],
   "source": []
  }
 ],
 "metadata": {
  "kernelspec": {
   "display_name": "makemore",
   "language": "python",
   "name": "python3"
  },
  "language_info": {
   "codemirror_mode": {
    "name": "ipython",
    "version": 3
   },
   "file_extension": ".py",
   "mimetype": "text/x-python",
   "name": "python",
   "nbconvert_exporter": "python",
   "pygments_lexer": "ipython3",
   "version": "3.12.8"
  }
 },
 "nbformat": 4,
 "nbformat_minor": 2
}
